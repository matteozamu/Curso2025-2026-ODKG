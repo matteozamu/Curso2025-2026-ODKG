{
 "cells": [
  {
   "cell_type": "markdown",
   "metadata": {
    "colab_type": "text",
    "id": "mykrL5dzjdZd"
   },
   "source": [
    "**Task 02: Managing statements**"
   ]
  },
  {
   "cell_type": "markdown",
   "metadata": {
    "colab_type": "text",
    "id": "LnByOT0rjr5G"
   },
   "source": [
    "Comenzamos con un grafo vacío"
   ]
  },
  {
   "cell_type": "code",
   "execution_count": 1,
   "metadata": {
    "colab": {
     "base_uri": "https://localhost:8080/",
     "height": 86
    },
    "colab_type": "code",
    "executionInfo": {
     "elapsed": 2974,
     "status": "ok",
     "timestamp": 1599451796678,
     "user": {
      "displayName": "D D",
      "photoUrl": "https://lh3.googleusercontent.com/a-/AOh14Gh6T1hnprK5j2SM-Y3y4pgVo02G8ksIIlcrc3t3fA=s64",
      "userId": "13287914887952271965"
     },
     "user_tz": -120
    },
    "id": "iOqfw6cYjdKg",
    "outputId": "b49b38b2-1416-4fdf-ec2b-a6fa22f2a91c"
   },
   "outputs": [
    {
     "name": "stdout",
     "output_type": "stream",
     "text": [
      "Requirement already satisfied: rdflib in /Users/matteozamuner/miniconda3/envs/ai-mlx/lib/python3.11/site-packages (7.2.1)\n",
      "Requirement already satisfied: pyparsing<4,>=2.1.0 in /Users/matteozamuner/miniconda3/envs/ai-mlx/lib/python3.11/site-packages (from rdflib) (3.2.0)\n"
     ]
    }
   ],
   "source": [
    "!pip install rdflib\n",
    "github_storage = \"https://raw.githubusercontent.com/FacultadInformatica-LinkedData/Curso2025-2026/refs/heads/master/Assignment4/course_materials\""
   ]
  },
  {
   "cell_type": "code",
   "execution_count": 2,
   "metadata": {
    "colab": {},
    "colab_type": "code",
    "id": "hoa1F3UZjPJB"
   },
   "outputs": [],
   "source": [
    "from rdflib import Graph, Namespace, Literal\n",
    "g = Graph()"
   ]
  },
  {
   "cell_type": "markdown",
   "metadata": {
    "colab_type": "text",
    "id": "DZPMjhmnjxVO"
   },
   "source": [
    "Creamos el recurso John Smith con su nombre completo\n"
   ]
  },
  {
   "cell_type": "code",
   "execution_count": 10,
   "metadata": {
    "colab": {},
    "colab_type": "code",
    "id": "mFRCCFmTkG6S"
   },
   "outputs": [
    {
     "name": "stdout",
     "output_type": "stream",
     "text": [
      "http://example.org/JohnSmith\n"
     ]
    }
   ],
   "source": [
    "fullName = Literal(\"John Smith\")\n",
    "EX = Namespace(\"http://example.org/\")\n",
    "johnURI = EX.JohnSmith\n",
    "\n",
    "print(johnURI)"
   ]
  },
  {
   "cell_type": "markdown",
   "metadata": {
    "colab_type": "text",
    "id": "u8i7EOwZlPGi"
   },
   "source": [
    "Generamos la sentencia añadiendo el predicado (propiedad)"
   ]
  },
  {
   "cell_type": "code",
   "execution_count": 4,
   "metadata": {
    "colab": {
     "base_uri": "https://localhost:8080/",
     "height": 34
    },
    "colab_type": "code",
    "executionInfo": {
     "elapsed": 2941,
     "status": "ok",
     "timestamp": 1599451796693,
     "user": {
      "displayName": "D D",
      "photoUrl": "https://lh3.googleusercontent.com/a-/AOh14Gh6T1hnprK5j2SM-Y3y4pgVo02G8ksIIlcrc3t3fA=s64",
      "userId": "13287914887952271965"
     },
     "user_tz": -120
    },
    "id": "iocF6ceGlJL3",
    "outputId": "71299ca2-3ef5-4696-8c71-bed495731a56"
   },
   "outputs": [
    {
     "name": "stdout",
     "output_type": "stream",
     "text": [
      "(rdflib.term.URIRef('http://example.org/JohnSmith'), rdflib.term.URIRef('http://www.w3.org/2001/vcard-rdf/3.0#FN'), rdflib.term.Literal('John Smith'))\n"
     ]
    },
    {
     "data": {
      "text/plain": [
       "<Graph identifier=N6bea54fc3ef04ca985a3a12244204a6f (<class 'rdflib.graph.Graph'>)>"
      ]
     },
     "execution_count": 4,
     "metadata": {},
     "output_type": "execute_result"
    }
   ],
   "source": [
    "VCARD = Namespace(\"http://www.w3.org/2001/vcard-rdf/3.0#\")\n",
    "\n",
    "resource = (johnURI, VCARD.FN, fullName)\n",
    "\n",
    "print(resource)\n",
    "\n",
    "g.add(resource)"
   ]
  },
  {
   "cell_type": "markdown",
   "metadata": {
    "colab_type": "text",
    "id": "_r2IA6SHmkyh"
   },
   "source": [
    "Creamos otro recurso para Jane con su nombre completo e email"
   ]
  },
  {
   "cell_type": "markdown",
   "metadata": {
    "colab_type": "text",
    "id": "wllA6e-enah6"
   },
   "source": [
    "Podemos abreviar un poco lo que hemos hecho en la tarea anterior, atención a los dobles paréntesis, add() acepta un solo parámetro en forma de tupla, no 3 parámetros."
   ]
  },
  {
   "cell_type": "code",
   "execution_count": null,
   "metadata": {
    "colab": {},
    "colab_type": "code",
    "id": "h6V6msiVnZzV"
   },
   "outputs": [
    {
     "data": {
      "text/plain": [
       "<Graph identifier=N6bea54fc3ef04ca985a3a12244204a6f (<class 'rdflib.graph.Graph'>)>"
      ]
     },
     "execution_count": 5,
     "metadata": {},
     "output_type": "execute_result"
    }
   ],
   "source": [
    "g.add((EX.JaneSmith, VCARD.FN, Literal(\"Jane Smith\"))) # it must be a triple\n",
    "g.add((EX.JaneSmith, VCARD.EMAIL, Literal(\"jsmith@example.org\"))) # it must be a triple"
   ]
  },
  {
   "cell_type": "markdown",
   "metadata": {
    "colab_type": "text",
    "id": "_UPNqIOboSio"
   },
   "source": [
    "Añadimos una relación entre John y Jane mediante el vocabulario FOAF"
   ]
  },
  {
   "cell_type": "markdown",
   "metadata": {
    "colab_type": "text",
    "id": "DkZjkRHEonAo"
   },
   "source": [
    "Hay ciertos espacios de nombres que son nativos a RDFlib, FOAF es uno de ellos y no hace falta que lo declaremos nosotros"
   ]
  },
  {
   "cell_type": "code",
   "execution_count": null,
   "metadata": {
    "colab": {},
    "colab_type": "code",
    "id": "4jL9pXaYo1uN"
   },
   "outputs": [],
   "source": [
    "from rdflib import FOAF # Friend of a Friend ontology"
   ]
  },
  {
   "cell_type": "code",
   "execution_count": null,
   "metadata": {
    "colab": {},
    "colab_type": "code",
    "id": "tDl33PvIo4Ga"
   },
   "outputs": [
    {
     "data": {
      "text/plain": [
       "<Graph identifier=N6bea54fc3ef04ca985a3a12244204a6f (<class 'rdflib.graph.Graph'>)>"
      ]
     },
     "execution_count": 7,
     "metadata": {},
     "output_type": "execute_result"
    }
   ],
   "source": [
    "g.add((EX.JohnSmith, FOAF.knows, EX.JaneSmith)) # it must be a triple"
   ]
  },
  {
   "cell_type": "markdown",
   "metadata": {
    "colab_type": "text",
    "id": "ZVs6mM7vr4Y7"
   },
   "source": [
    "Vemos el resultado conjunto"
   ]
  },
  {
   "cell_type": "code",
   "execution_count": 8,
   "metadata": {
    "colab": {
     "base_uri": "https://localhost:8080/",
     "height": 208
    },
    "colab_type": "code",
    "executionInfo": {
     "elapsed": 648,
     "status": "ok",
     "timestamp": 1599451952335,
     "user": {
      "displayName": "D D",
      "photoUrl": "https://lh3.googleusercontent.com/a-/AOh14Gh6T1hnprK5j2SM-Y3y4pgVo02G8ksIIlcrc3t3fA=s64",
      "userId": "13287914887952271965"
     },
     "user_tz": -120
    },
    "id": "ri30SNw8r67i",
    "outputId": "a71ae40f-cf5c-4e91-e289-f9e236ebd871"
   },
   "outputs": [
    {
     "name": "stdout",
     "output_type": "stream",
     "text": [
      "@prefix foaf: <http://xmlns.com/foaf/0.1/> .\n",
      "@prefix ns1: <http://www.w3.org/2001/vcard-rdf/3.0#> .\n",
      "\n",
      "<http://example.org/JohnSmith> ns1:FN \"John Smith\" ;\n",
      "    foaf:knows <http://example.org/JaneSmith> .\n",
      "\n",
      "<http://example.org/JaneSmith> ns1:EMAIL \"jsmith@example.org\" ;\n",
      "    ns1:FN \"Jane Smith\" .\n",
      "\n",
      "\n"
     ]
    }
   ],
   "source": [
    "print(g.serialize(format=\"ttl\"))"
   ]
  },
  {
   "cell_type": "markdown",
   "metadata": {},
   "source": [
    "Tambien puedes incluir el prefijo EX en el grafo:"
   ]
  },
  {
   "cell_type": "code",
   "execution_count": null,
   "metadata": {},
   "outputs": [
    {
     "name": "stdout",
     "output_type": "stream",
     "text": [
      "@prefix ex: <http://example.org/> .\n",
      "@prefix foaf: <http://xmlns.com/foaf/0.1/> .\n",
      "@prefix ns1: <http://www.w3.org/2001/vcard-rdf/3.0#> .\n",
      "\n",
      "ex:JohnSmith ns1:FN \"John Smith\" ;\n",
      "    foaf:knows ex:JaneSmith .\n",
      "\n",
      "ex:JaneSmith ns1:EMAIL \"jsmith@example.org\" ;\n",
      "    ns1:FN \"Jane Smith\" .\n",
      "\n",
      "\n"
     ]
    }
   ],
   "source": [
    "g.namespace_manager.bind('ex', EX) # bind prefix 'ex' to namespace EX\n",
    "print(g.serialize(format=\"ttl\"))"
   ]
  }
 ],
 "metadata": {
  "colab": {
   "authorship_tag": "ABX9TyPvgpzcO+RIWC9j5H1oLrWp",
   "collapsed_sections": [],
   "name": "Task02.ipynb",
   "provenance": []
  },
  "kernelspec": {
   "display_name": "ai-mlx",
   "language": "python",
   "name": "python3"
  },
  "language_info": {
   "codemirror_mode": {
    "name": "ipython",
    "version": 3
   },
   "file_extension": ".py",
   "mimetype": "text/x-python",
   "name": "python",
   "nbconvert_exporter": "python",
   "pygments_lexer": "ipython3",
   "version": "3.11.10"
  }
 },
 "nbformat": 4,
 "nbformat_minor": 1
}
